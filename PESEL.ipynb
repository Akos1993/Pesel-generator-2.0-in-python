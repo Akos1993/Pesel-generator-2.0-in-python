{
  "nbformat": 4,
  "nbformat_minor": 0,
  "metadata": {
    "colab": {
      "provenance": [],
      "authorship_tag": "ABX9TyPXQSLrLOhdtA268bIr94Ff",
      "include_colab_link": true
    },
    "kernelspec": {
      "name": "python3",
      "display_name": "Python 3"
    },
    "language_info": {
      "name": "python"
    }
  },
  "cells": [
    {
      "cell_type": "markdown",
      "metadata": {
        "id": "view-in-github",
        "colab_type": "text"
      },
      "source": [
        "<a href=\"https://colab.research.google.com/github/Akos1993/Pesel-generator-2.0-in-python/blob/main/PESEL.ipynb\" target=\"_parent\"><img src=\"https://colab.research.google.com/assets/colab-badge.svg\" alt=\"Open In Colab\"/></a>"
      ]
    },
    {
      "cell_type": "markdown",
      "source": [],
      "metadata": {
        "id": "ROc5GHBLjc6j"
      }
    },
    {
      "cell_type": "markdown",
      "source": [],
      "metadata": {
        "id": "dDMviZvjjFl0"
      }
    },
    {
      "cell_type": "markdown",
      "source": [
        "# Back end"
      ],
      "metadata": {
        "id": "2WjpHUYtjYaq"
      }
    },
    {
      "cell_type": "code",
      "source": [
        "!pip install faker\n",
        "\n",
        "import sqlite3\n",
        "import random\n",
        "from faker import Faker\n",
        "from datetime import datetime\n",
        "\n",
        "# Initialize Faker for Polish and other languages\n",
        "fake = Faker([\"pl_PL\", \"en_US\", \"es_ES\", \"de_DE\", \"fr_FR\"])\n",
        "\n",
        "# Function to generate a valid PESEL based on DoB and sex\n",
        "def generate_dummy_pesel(dob, sex):\n",
        "    year = dob.year\n",
        "    month = dob.month\n",
        "    day = dob.day\n",
        "\n",
        "    # Encode century information in the month\n",
        "    if 1800 <= year < 1900:\n",
        "        month += 80\n",
        "    elif 1900 <= year < 2000:\n",
        "        month += 0\n",
        "    elif 2000 <= year < 2100:\n",
        "        month += 20\n",
        "    elif 2100 <= year < 2200:\n",
        "        month += 40\n",
        "    elif 2200 <= year < 2300:\n",
        "        month += 60\n",
        "\n",
        "    # Generate random ZZZ (unique identification number)\n",
        "    zzz = random.randint(0, 999)\n",
        "    zzz_str = str(zzz).zfill(3)\n",
        "\n",
        "    # Determine sex digit (X)\n",
        "    if sex.lower() == \"male\":\n",
        "        sex_digit = random.choice([1, 3, 5, 7, 9])\n",
        "    else:\n",
        "        sex_digit = random.choice([0, 2, 4, 6, 8])\n",
        "\n",
        "    # Construct the PESEL without the check digit\n",
        "    pesel_without_check_digit = f\"{year % 100:02}{month:02}{day:02}{zzz_str}{sex_digit}\"\n",
        "\n",
        "    # Calculate the check digit (Q)\n",
        "    weights = [1, 3, 7, 9, 1, 3, 7, 9, 1, 3, 1]\n",
        "    check_sum = 0\n",
        "    for i in range(10):\n",
        "        check_sum += int(pesel_without_check_digit[i]) * weights[i]\n",
        "\n",
        "    check_digit = (10 - (check_sum % 10)) % 10\n",
        "\n",
        "    # Complete the PESEL with the check digit\n",
        "    pesel = pesel_without_check_digit + str(check_digit)\n",
        "\n",
        "    return pesel\n",
        "\n",
        "# Connect to SQLite database (or create it)\n",
        "conn = sqlite3.connect(\"dummy_data.db\")\n",
        "cursor = conn.cursor()\n",
        "\n",
        "# Create table with additional fields for DoB and sex\n",
        "cursor.execute(\"\"\"\n",
        "CREATE TABLE IF NOT EXISTS people (\n",
        "    id INTEGER PRIMARY KEY AUTOINCREMENT,\n",
        "    name TEXT,\n",
        "    surname TEXT,\n",
        "    dob TEXT,\n",
        "    sex TEXT,\n",
        "    pesel TEXT UNIQUE\n",
        ")\n",
        "\"\"\")\n",
        "\n",
        "# Generate 10,000 rows of data\n",
        "data = []\n",
        "for _ in range(10000):\n",
        "    first_name = fake.first_name()\n",
        "    last_name = fake.last_name()\n",
        "\n",
        "    # Generate a random date of birth\n",
        "    dob = fake.date_of_birth(minimum_age=18, maximum_age=90)\n",
        "\n",
        "    # Randomly assign sex\n",
        "    sex = random.choice([\"male\", \"female\"])\n",
        "\n",
        "    # Generate a PESEL based on the DoB and sex\n",
        "    pesel = generate_dummy_pesel(dob, sex)\n",
        "\n",
        "    # Append to data list\n",
        "    data.append((first_name, last_name, dob.strftime(\"%Y-%m-%d\"), sex, pesel))\n",
        "\n",
        "# Insert data into the database\n",
        "cursor.executemany(\"INSERT INTO people (name, surname, dob, sex, pesel) VALUES (?, ?, ?, ?, ?)\", data)\n",
        "\n",
        "# Commit changes and close the connection\n",
        "conn.commit()\n",
        "conn.close()\n",
        "\n",
        "print(\"Database created with 10,000 rows!\")\n"
      ],
      "metadata": {
        "colab": {
          "base_uri": "https://localhost:8080/"
        },
        "id": "QBMVWBvCfS-a",
        "outputId": "6e6e6e41-377c-4b94-adbb-676202c539e1"
      },
      "execution_count": 8,
      "outputs": [
        {
          "output_type": "stream",
          "name": "stdout",
          "text": [
            "Collecting faker\n",
            "  Downloading faker-37.0.0-py3-none-any.whl.metadata (15 kB)\n",
            "Requirement already satisfied: tzdata in /usr/local/lib/python3.11/dist-packages (from faker) (2025.1)\n",
            "Downloading faker-37.0.0-py3-none-any.whl (1.9 MB)\n",
            "\u001b[?25l   \u001b[90m━━━━━━━━━━━━━━━━━━━━━━━━━━━━━━━━━━━━━━━━\u001b[0m \u001b[32m0.0/1.9 MB\u001b[0m \u001b[31m?\u001b[0m eta \u001b[36m-:--:--\u001b[0m\r\u001b[2K   \u001b[90m━━━━━━━━━━━━━━━━━━━━━━━━━━━━━━━━━━━━━━━━\u001b[0m \u001b[32m1.9/1.9 MB\u001b[0m \u001b[31m58.6 MB/s\u001b[0m eta \u001b[36m0:00:00\u001b[0m\n",
            "\u001b[?25hInstalling collected packages: faker\n",
            "Successfully installed faker-37.0.0\n",
            "Database created with 10,000 rows!\n"
          ]
        }
      ]
    },
    {
      "cell_type": "code",
      "source": [
        "class Person:\n",
        "    def __init__(self, name, surname, sex, dob, pesel_number=None):\n",
        "        self.name = name\n",
        "        self.surname = surname\n",
        "        self.sex = sex\n",
        "        self.dob = dob\n",
        "        self.pesel_number = pesel_number\n",
        "\n",
        "\n",
        "class Pesel:\n",
        "    def __init__(self, person):\n",
        "        self.person = person\n",
        "\n",
        "    def generate(self):\n",
        "        # Extract date of birth components\n",
        "        year = self.person.dob.year\n",
        "        month = self.person.dob.month\n",
        "        day = self.person.dob.day\n",
        "\n",
        "        # Encode century information in the month\n",
        "        if 1800 <= year < 1900:\n",
        "            month += 80\n",
        "        elif 1900 <= year < 2000:\n",
        "            month += 0\n",
        "        elif 2000 <= year < 2100:\n",
        "            month += 20\n",
        "        elif 2100 <= year < 2200:\n",
        "            month += 40\n",
        "        elif 2200 <= year < 2300:\n",
        "            month += 60\n",
        "\n",
        "        # Generate random ZZZ (unique identification number)\n",
        "        zzz = random.randint(0, 999)\n",
        "        zzz_str = str(zzz).zfill(3)\n",
        "\n",
        "        # Determine sex digit (X)\n",
        "        if self.person.sex.lower() == 'male':\n",
        "            sex_digit = random.choice([1, 3, 5, 7, 9])\n",
        "        else:\n",
        "            sex_digit = random.choice([0, 2, 4, 6, 8])\n",
        "\n",
        "        # Construct the PESEL without the check digit\n",
        "        pesel_without_check_digit = f\"{year % 100:02}{month:02}{day:02}{zzz_str}{sex_digit}\"\n",
        "\n",
        "        # Calculate the check digit (Q)\n",
        "        weights = [1, 3, 7, 9, 1, 3, 7, 9, 1, 3, 1]\n",
        "        check_sum = 0\n",
        "        for i in range(10):\n",
        "            check_sum += int(pesel_without_check_digit[i]) * weights[i]\n",
        "\n",
        "        check_digit = (10 - (check_sum % 10)) % 10\n",
        "\n",
        "        # Complete the PESEL with the check digit\n",
        "        pesel = pesel_without_check_digit + str(check_digit)\n",
        "\n",
        "        return pesel\n",
        "\n",
        "    def check_pesel_exists(self, db_path=\"dummy_data.db\"):\n",
        "        \"\"\"\n",
        "        Checks if the generated PESEL already exists in the SQL database.\n",
        "        \"\"\"\n",
        "        try:\n",
        "            # Connect to the SQLite database\n",
        "            conn = sqlite3.connect(db_path)\n",
        "\n",
        "            # Read the 'pesel' column from the 'people' table into a pandas DataFrame\n",
        "            df = pd.read_sql_query(\"SELECT pesel FROM people\", conn)\n",
        "\n",
        "            # Close the database connection\n",
        "            conn.close()\n",
        "\n",
        "            # Generate a new PESEL number\n",
        "            pesel = self.generate()\n",
        "\n",
        "            # Check if the generated PESEL exists in the DataFrame\n",
        "            return pesel in df['pesel'].values\n",
        "\n",
        "        except Exception as e:\n",
        "            print(f\"Error checking PESEL in database: {e}\")\n",
        "            return False  # Return False or handle the error appropriately\n",
        "\n",
        "    def assign_unique_pesel(self):\n",
        "        pesel = self.generate()\n",
        "        while self.check_pesel_exists(pesel):\n",
        "            pesel = self.generate()\n",
        "        self.person.pesel_number = pesel\n"
      ],
      "metadata": {
        "id": "EPjK5rzY5HfJ"
      },
      "execution_count": 10,
      "outputs": []
    },
    {
      "cell_type": "code",
      "source": [
        "def update_db_with_person(person, db_path=\"dummy_data.db\"):\n",
        "    \"\"\"\n",
        "    Updates the database with the personal data and the successfully generated PESEL.\n",
        "\n",
        "    Parameters:\n",
        "        person (Person): The Person object containing the personal data and PESEL.\n",
        "        db_path (str): The path to the SQLite database file.\n",
        "    \"\"\"\n",
        "    try:\n",
        "        # Connect to the SQLite database\n",
        "        conn = sqlite3.connect(db_path)\n",
        "        cursor = conn.cursor()\n",
        "\n",
        "        # Insert the person's data into the database\n",
        "        cursor.execute(\"\"\"\n",
        "        INSERT INTO people (name, surname, sex, dob, pesel)\n",
        "        VALUES (?, ?, ?, ?, ?)\n",
        "        \"\"\", (person.name, person.surname, person.sex, person.dob, person.pesel_number))\n",
        "\n",
        "        # Commit changes and close the connection\n",
        "        conn.commit()\n",
        "        conn.close()\n",
        "\n",
        "        print(f\"Successfully added {person.name} {person.surname} to the database with PESEL: {person.pesel_number}\")\n",
        "    except sqlite3.IntegrityError:\n",
        "        print(f\"Error: PESEL {person.pesel_number} already exists in the database.\")\n",
        "    except Exception as e:\n",
        "        print(f\"An error occurred while updating the database: {e}\")\n"
      ],
      "metadata": {
        "id": "sUmav5Ta_KZ3"
      },
      "execution_count": null,
      "outputs": []
    },
    {
      "cell_type": "code",
      "source": [
        "# prompt: create an instance of Person and Pesel with 'John' 'Doe' 'male' 1990.05.21.\n",
        "\n",
        "import pandas as pd\n",
        "\n",
        "# Create a Person instance\n",
        "john_doe = Person(\"John\", \"Doe\", \"male\", datetime(1990, 5, 21))\n",
        "\n",
        "# Create a Pesel instance associated with the person\n",
        "john_doe_pesel = Pesel(john_doe)\n",
        "\n",
        "# Assign a unique PESEL to the person\n",
        "john_doe_pesel.assign_unique_pesel()\n",
        "\n",
        "# Print the person's details including the generated PESEL\n",
        "print(f\"Name: {john_doe.name}\")\n",
        "print(f\"Surname: {john_doe.surname}\")\n",
        "print(f\"Sex: {john_doe.sex}\")\n",
        "print(f\"Date of Birth: {john_doe.dob}\")\n",
        "print(f\"PESEL: {john_doe.pesel_number}\")\n",
        "\n",
        "# Update the database with the person's information\n",
        "update_db_with_person(john_doe)\n"
      ],
      "metadata": {
        "colab": {
          "base_uri": "https://localhost:8080/",
          "height": 300
        },
        "id": "p0_zdVzZqtUd",
        "outputId": "85956d0a-0aee-4245-a8e4-d13d1997f432"
      },
      "execution_count": 11,
      "outputs": [
        {
          "output_type": "stream",
          "name": "stdout",
          "text": [
            "Error checking PESEL in database: Execution failed on sql 'SELECT pesel FROM people': no such table: people\n",
            "Name: John\n",
            "Surname: Doe\n",
            "Sex: male\n",
            "Date of Birth: 1990-05-21 00:00:00\n",
            "PESEL: 90052143051\n"
          ]
        },
        {
          "output_type": "error",
          "ename": "NameError",
          "evalue": "name 'update_db_with_person' is not defined",
          "traceback": [
            "\u001b[0;31m---------------------------------------------------------------------------\u001b[0m",
            "\u001b[0;31mNameError\u001b[0m                                 Traceback (most recent call last)",
            "\u001b[0;32m<ipython-input-11-e9f345e28034>\u001b[0m in \u001b[0;36m<cell line: 0>\u001b[0;34m()\u001b[0m\n\u001b[1;32m     20\u001b[0m \u001b[0;34m\u001b[0m\u001b[0m\n\u001b[1;32m     21\u001b[0m \u001b[0;31m# Update the database with the person's information\u001b[0m\u001b[0;34m\u001b[0m\u001b[0;34m\u001b[0m\u001b[0m\n\u001b[0;32m---> 22\u001b[0;31m \u001b[0mupdate_db_with_person\u001b[0m\u001b[0;34m(\u001b[0m\u001b[0mjohn_doe\u001b[0m\u001b[0;34m)\u001b[0m\u001b[0;34m\u001b[0m\u001b[0;34m\u001b[0m\u001b[0m\n\u001b[0m",
            "\u001b[0;31mNameError\u001b[0m: name 'update_db_with_person' is not defined"
          ]
        }
      ]
    },
    {
      "cell_type": "markdown",
      "source": [
        "# Front end\n"
      ],
      "metadata": {
        "id": "_rs7ZuJ0jLXP"
      }
    },
    {
      "cell_type": "code",
      "source": [
        "!pip install streamlit\n",
        "!npm install -g localtunnel"
      ],
      "metadata": {
        "colab": {
          "base_uri": "https://localhost:8080/"
        },
        "id": "HUpbf6XZsEH0",
        "outputId": "33d04da2-cf76-4ea6-e61a-a3b74ec057d8"
      },
      "execution_count": 16,
      "outputs": [
        {
          "output_type": "stream",
          "name": "stdout",
          "text": [
            "Requirement already satisfied: streamlit in /usr/local/lib/python3.11/dist-packages (1.43.2)\n",
            "Requirement already satisfied: altair<6,>=4.0 in /usr/local/lib/python3.11/dist-packages (from streamlit) (5.5.0)\n",
            "Requirement already satisfied: blinker<2,>=1.0.0 in /usr/local/lib/python3.11/dist-packages (from streamlit) (1.9.0)\n",
            "Requirement already satisfied: cachetools<6,>=4.0 in /usr/local/lib/python3.11/dist-packages (from streamlit) (5.5.2)\n",
            "Requirement already satisfied: click<9,>=7.0 in /usr/local/lib/python3.11/dist-packages (from streamlit) (8.1.8)\n",
            "Requirement already satisfied: numpy<3,>=1.23 in /usr/local/lib/python3.11/dist-packages (from streamlit) (1.26.4)\n",
            "Requirement already satisfied: packaging<25,>=20 in /usr/local/lib/python3.11/dist-packages (from streamlit) (24.2)\n",
            "Requirement already satisfied: pandas<3,>=1.4.0 in /usr/local/lib/python3.11/dist-packages (from streamlit) (2.2.2)\n",
            "Requirement already satisfied: pillow<12,>=7.1.0 in /usr/local/lib/python3.11/dist-packages (from streamlit) (11.1.0)\n",
            "Requirement already satisfied: protobuf<6,>=3.20 in /usr/local/lib/python3.11/dist-packages (from streamlit) (4.25.6)\n",
            "Requirement already satisfied: pyarrow>=7.0 in /usr/local/lib/python3.11/dist-packages (from streamlit) (18.1.0)\n",
            "Requirement already satisfied: requests<3,>=2.27 in /usr/local/lib/python3.11/dist-packages (from streamlit) (2.32.3)\n",
            "Requirement already satisfied: tenacity<10,>=8.1.0 in /usr/local/lib/python3.11/dist-packages (from streamlit) (9.0.0)\n",
            "Requirement already satisfied: toml<2,>=0.10.1 in /usr/local/lib/python3.11/dist-packages (from streamlit) (0.10.2)\n",
            "Requirement already satisfied: typing-extensions<5,>=4.4.0 in /usr/local/lib/python3.11/dist-packages (from streamlit) (4.12.2)\n",
            "Requirement already satisfied: watchdog<7,>=2.1.5 in /usr/local/lib/python3.11/dist-packages (from streamlit) (6.0.0)\n",
            "Requirement already satisfied: gitpython!=3.1.19,<4,>=3.0.7 in /usr/local/lib/python3.11/dist-packages (from streamlit) (3.1.44)\n",
            "Requirement already satisfied: pydeck<1,>=0.8.0b4 in /usr/local/lib/python3.11/dist-packages (from streamlit) (0.9.1)\n",
            "Requirement already satisfied: tornado<7,>=6.0.3 in /usr/local/lib/python3.11/dist-packages (from streamlit) (6.4.2)\n",
            "Requirement already satisfied: jinja2 in /usr/local/lib/python3.11/dist-packages (from altair<6,>=4.0->streamlit) (3.1.6)\n",
            "Requirement already satisfied: jsonschema>=3.0 in /usr/local/lib/python3.11/dist-packages (from altair<6,>=4.0->streamlit) (4.23.0)\n",
            "Requirement already satisfied: narwhals>=1.14.2 in /usr/local/lib/python3.11/dist-packages (from altair<6,>=4.0->streamlit) (1.30.0)\n",
            "Requirement already satisfied: gitdb<5,>=4.0.1 in /usr/local/lib/python3.11/dist-packages (from gitpython!=3.1.19,<4,>=3.0.7->streamlit) (4.0.12)\n",
            "Requirement already satisfied: python-dateutil>=2.8.2 in /usr/local/lib/python3.11/dist-packages (from pandas<3,>=1.4.0->streamlit) (2.8.2)\n",
            "Requirement already satisfied: pytz>=2020.1 in /usr/local/lib/python3.11/dist-packages (from pandas<3,>=1.4.0->streamlit) (2025.1)\n",
            "Requirement already satisfied: tzdata>=2022.7 in /usr/local/lib/python3.11/dist-packages (from pandas<3,>=1.4.0->streamlit) (2025.1)\n",
            "Requirement already satisfied: charset-normalizer<4,>=2 in /usr/local/lib/python3.11/dist-packages (from requests<3,>=2.27->streamlit) (3.4.1)\n",
            "Requirement already satisfied: idna<4,>=2.5 in /usr/local/lib/python3.11/dist-packages (from requests<3,>=2.27->streamlit) (3.10)\n",
            "Requirement already satisfied: urllib3<3,>=1.21.1 in /usr/local/lib/python3.11/dist-packages (from requests<3,>=2.27->streamlit) (2.3.0)\n",
            "Requirement already satisfied: certifi>=2017.4.17 in /usr/local/lib/python3.11/dist-packages (from requests<3,>=2.27->streamlit) (2025.1.31)\n",
            "Requirement already satisfied: smmap<6,>=3.0.1 in /usr/local/lib/python3.11/dist-packages (from gitdb<5,>=4.0.1->gitpython!=3.1.19,<4,>=3.0.7->streamlit) (5.0.2)\n",
            "Requirement already satisfied: MarkupSafe>=2.0 in /usr/local/lib/python3.11/dist-packages (from jinja2->altair<6,>=4.0->streamlit) (3.0.2)\n",
            "Requirement already satisfied: attrs>=22.2.0 in /usr/local/lib/python3.11/dist-packages (from jsonschema>=3.0->altair<6,>=4.0->streamlit) (25.2.0)\n",
            "Requirement already satisfied: jsonschema-specifications>=2023.03.6 in /usr/local/lib/python3.11/dist-packages (from jsonschema>=3.0->altair<6,>=4.0->streamlit) (2024.10.1)\n",
            "Requirement already satisfied: referencing>=0.28.4 in /usr/local/lib/python3.11/dist-packages (from jsonschema>=3.0->altair<6,>=4.0->streamlit) (0.36.2)\n",
            "Requirement already satisfied: rpds-py>=0.7.1 in /usr/local/lib/python3.11/dist-packages (from jsonschema>=3.0->altair<6,>=4.0->streamlit) (0.23.1)\n",
            "Requirement already satisfied: six>=1.5 in /usr/local/lib/python3.11/dist-packages (from python-dateutil>=2.8.2->pandas<3,>=1.4.0->streamlit) (1.17.0)\n",
            "\u001b[1G\u001b[0K⠙\u001b[1G\u001b[0K⠹\u001b[1G\u001b[0K⠸\u001b[1G\u001b[0K⠼\u001b[1G\u001b[0K⠴\u001b[1G\u001b[0K⠦\u001b[1G\u001b[0K⠧\u001b[1G\u001b[0K⠇\u001b[1G\u001b[0K⠏\u001b[1G\u001b[0K⠋\u001b[1G\u001b[0K⠙\u001b[1G\u001b[0K⠹\u001b[1G\u001b[0K⠸\u001b[1G\u001b[0K⠼\u001b[1G\u001b[0K⠴\u001b[1G\u001b[0K⠦\u001b[1G\u001b[0K⠧\u001b[1G\u001b[0K⠇\u001b[1G\u001b[0K⠏\u001b[1G\u001b[0K⠋\u001b[1G\u001b[0K\n",
            "added 22 packages in 3s\n",
            "\u001b[1G\u001b[0K⠋\u001b[1G\u001b[0K\n",
            "\u001b[1G\u001b[0K⠋\u001b[1G\u001b[0K3 packages are looking for funding\n",
            "\u001b[1G\u001b[0K⠋\u001b[1G\u001b[0K  run `npm fund` for details\n",
            "\u001b[1G\u001b[0K⠋\u001b[1G\u001b[0K"
          ]
        }
      ]
    },
    {
      "cell_type": "code",
      "source": [
        "%%writefile app.py\n",
        "\n",
        "import streamlit as st\n",
        "\n",
        "class MyApp:\n",
        "    def __init__(self):\n",
        "        self.user_input = \"\"\n",
        "\n",
        "    def display_title(self):\n",
        "        st.title(\"Generowanie Pesel\")\n",
        "\n",
        "    def get_user_input(self):\n",
        "        self.user_input = st.text_input(\"\")\n",
        "\n",
        "    def display_output(self):\n",
        "        if st.button(\"Potwierdż\"):\n",
        "            st.write(f\"Dodana Suksesem {self.user_input}\")\n",
        "\n",
        "# Run the app\n",
        "if __name__ == \"__main__\":\n",
        "    app = MyApp()\n",
        "    app.display_title()\n",
        "    app.get_user_input()\n",
        "    app.display_output()\n"
      ],
      "metadata": {
        "colab": {
          "base_uri": "https://localhost:8080/"
        },
        "id": "gKCqCMEkyodZ",
        "outputId": "79d5a0b6-9a47-4a28-d8dd-8a0dcd062d6f"
      },
      "execution_count": 23,
      "outputs": [
        {
          "output_type": "stream",
          "name": "stdout",
          "text": [
            "Overwriting app.py\n"
          ]
        }
      ]
    },
    {
      "cell_type": "code",
      "source": [
        "!streamlit run app.py &>/content/logs.txt &"
      ],
      "metadata": {
        "id": "Q5WLMvLM312m"
      },
      "execution_count": 24,
      "outputs": []
    }
  ]
}